{
 "cells": [
  {
   "cell_type": "code",
   "execution_count": 6,
   "metadata": {},
   "outputs": [],
   "source": [
    "import falconn\n",
    "import pprint as pp"
   ]
  },
  {
   "cell_type": "code",
   "execution_count": 8,
   "metadata": {},
   "outputs": [
    {
     "name": "stdout",
     "output_type": "stream",
     "text": [
      "<_falconn.LSHConstructionParameters object at 0x7ffa33952bc8>\n"
     ]
    }
   ],
   "source": [
    "dp = falconn.get_default_parameters(1600, 128, falconn.DistanceFunction.EuclideanSquared)\n",
    "pp.pprint(dp)"
   ]
  },
  {
   "cell_type": "code",
   "execution_count": 12,
   "metadata": {},
   "outputs": [],
   "source": [
    "import nmslib"
   ]
  },
  {
   "cell_type": "code",
   "execution_count": 37,
   "metadata": {},
   "outputs": [],
   "source": [
    "import os.path\n",
    "import nmslib \n",
    "\n",
    "INDEX_DIR='indices'    \n",
    "import shutil\n",
    "if os.path.exists(INDEX_DIR):\n",
    "    shutil.rmtree(INDEX_DIR)\n",
    "\n",
    "class NmslibReuseIndex:\n",
    "    def __init__(self, metric, method_name, index_param, save_index, query_param):\n",
    "        self._nmslib_metric = {'angular': 'cosinesimil', 'euclidean': 'l2'}[metric]\n",
    "        self._method_name = method_name\n",
    "        self._save_index = save_index\n",
    "        self._index_param = index_param\n",
    "        self._query_param = query_param\n",
    "        self.name = 'Nmslib(method_name=%s, index_param=%s, query_param=%s)' % (\n",
    "            method_name, index_param, query_param)\n",
    "        \n",
    "        self._index_name = os.path.join(INDEX_DIR, \"nmslib_%s_%s_%s\" % (\n",
    "            self._method_name, metric, '_'.join(self._index_param))) \n",
    "\n",
    "        d = os.path.dirname(self._index_name)\n",
    "        if not os.path.exists(d):\n",
    "          os.makedirs(d)\n",
    "        \n",
    "        self._index = nmslib.init(self._nmslib_metric)\n",
    "\n",
    "    def add(self, i, x) :\n",
    "        self._index.appDataPoint(i,x)\n",
    "        \n",
    "    def fit(self, X):\n",
    "        if self._method_name == 'vptree':\n",
    "            # To avoid this issue:\n",
    "            # terminate called after throwing an instance of 'std::runtime_error'\n",
    "            # what():  The data size is too small or the bucket size is too big. Select the parameters so that <total # of records> is NOT less than <bucket size> * 1000\n",
    "            # Aborted (core dumped)\n",
    "            self._index_param.append('bucketSize=%d' % min(int(X.shape[0] * 0.0005), 1000))\n",
    "                                        \n",
    "        for i, x in enumerate(X):\n",
    "            self._index.addDataPoint(i, x)\n",
    "\n",
    "\n",
    "        if os.path.exists(self._index_name):\n",
    "            print \"Loading index from file\"\n",
    "            self._index.loadIndex(self._index_name)\n",
    "        else:\n",
    "            self._index.createIndex(self._index_param)\n",
    "            if self._save_index: \n",
    "              self._index.saveIndex(self._index_name)\n",
    "        #self._index.setQueryTimeParams(self._query_param)\n",
    "        \n",
    "\n",
    "    def query(self, v, n):\n",
    "        return self._index.knnQuery( v, k=n)\n",
    "\n",
    "    def freeIndex(self):\n",
    "        self._index = None"
   ]
  },
  {
   "cell_type": "code",
   "execution_count": 40,
   "metadata": {},
   "outputs": [
    {
     "data": {
      "text/plain": [
       "(array([  0, 485, 824, 249, 325,  52, 243, 954, 408, 662], dtype=int32),\n",
       " array([  3.57627869e-07,   7.25090981e-01,   7.28309512e-01,\n",
       "          7.31392801e-01,   7.34187186e-01,   7.35698462e-01,\n",
       "          7.43861318e-01,   7.60318637e-01,   7.62889028e-01,\n",
       "          7.68079579e-01], dtype=float32))"
      ]
     },
     "execution_count": 40,
     "metadata": {},
     "output_type": "execute_result"
    }
   ],
   "source": [
    "import numpy as np\n",
    "import nmslib \n",
    "\n",
    "data = np.random.randn(1000, 100).astype(np.float32)\n",
    "\n",
    "index = NmslibReuseIndex(\"angular\", \"hnsw\", {\"post\":2}, False, {\"k\":10})\n",
    "index.fit(data)\n",
    "index.query(data[0], 10)"
   ]
  },
  {
   "cell_type": "code",
   "execution_count": 7,
   "metadata": {},
   "outputs": [],
   "source": [
    "import numpy as np\n",
    "data = []\n",
    "for i in range(2):\n",
    "    data.append(np.random.rand(3,2))"
   ]
  },
  {
   "cell_type": "code",
   "execution_count": 8,
   "metadata": {},
   "outputs": [
    {
     "data": {
      "text/plain": [
       "[array([[ 0.03592976,  0.68651662],\n",
       "        [ 0.08654572,  0.1576118 ],\n",
       "        [ 0.75146299,  0.01702054]]), array([[ 0.26032299,  0.01829923],\n",
       "        [ 0.55238853,  0.26964409],\n",
       "        [ 0.1930148 ,  0.44923551]])]"
      ]
     },
     "execution_count": 8,
     "metadata": {},
     "output_type": "execute_result"
    }
   ],
   "source": [
    "data"
   ]
  },
  {
   "cell_type": "code",
   "execution_count": 9,
   "metadata": {},
   "outputs": [
    {
     "data": {
      "text/plain": [
       "array([[ 0.03592976,  0.68651662],\n",
       "       [ 0.08654572,  0.1576118 ],\n",
       "       [ 0.75146299,  0.01702054],\n",
       "       [ 0.26032299,  0.01829923],\n",
       "       [ 0.55238853,  0.26964409],\n",
       "       [ 0.1930148 ,  0.44923551]])"
      ]
     },
     "execution_count": 9,
     "metadata": {},
     "output_type": "execute_result"
    }
   ],
   "source": [
    "np.concatenate(data)"
   ]
  },
  {
   "cell_type": "code",
   "execution_count": 10,
   "metadata": {},
   "outputs": [],
   "source": [
    "arr = np.random.rand(3)"
   ]
  },
  {
   "cell_type": "code",
   "execution_count": 11,
   "metadata": {},
   "outputs": [
    {
     "data": {
      "text/plain": [
       "array([ 0.4189253 ,  0.54643724,  0.53097753])"
      ]
     },
     "execution_count": 11,
     "metadata": {},
     "output_type": "execute_result"
    }
   ],
   "source": [
    "arr"
   ]
  },
  {
   "cell_type": "code",
   "execution_count": 12,
   "metadata": {},
   "outputs": [
    {
     "data": {
      "text/plain": [
       "array([[ 0.4189253 ,  0.54643724,  0.53097753]])"
      ]
     },
     "execution_count": 12,
     "metadata": {},
     "output_type": "execute_result"
    }
   ],
   "source": [
    "np.expand_dims(arr, axis=0)"
   ]
  },
  {
   "cell_type": "code",
   "execution_count": 13,
   "metadata": {},
   "outputs": [
    {
     "data": {
      "text/plain": [
       "array([[ 0.4189253 ],\n",
       "       [ 0.54643724],\n",
       "       [ 0.53097753]])"
      ]
     },
     "execution_count": 13,
     "metadata": {},
     "output_type": "execute_result"
    }
   ],
   "source": [
    "np.expand_dims(arr, axis=1)"
   ]
  },
  {
   "cell_type": "code",
   "execution_count": null,
   "metadata": {},
   "outputs": [],
   "source": []
  }
 ],
 "metadata": {
  "kernelspec": {
   "display_name": "Python 2",
   "language": "python",
   "name": "python2"
  },
  "language_info": {
   "codemirror_mode": {
    "name": "ipython",
    "version": 2
   },
   "file_extension": ".py",
   "mimetype": "text/x-python",
   "name": "python",
   "nbconvert_exporter": "python",
   "pygments_lexer": "ipython2",
   "version": "2.7.12"
  }
 },
 "nbformat": 4,
 "nbformat_minor": 2
}
